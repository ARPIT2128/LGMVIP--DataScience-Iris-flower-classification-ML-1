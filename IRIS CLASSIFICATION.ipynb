{
 "cells": [
  {
   "cell_type": "code",
   "execution_count": 13,
   "id": "2d6b5b08",
   "metadata": {},
   "outputs": [],
   "source": [
    "import pandas as pd\n",
    "import numpy as np\n",
    "import os\n",
    "import sklearn as sk"
   ]
  },
  {
   "cell_type": "code",
   "execution_count": 14,
   "id": "949463f2",
   "metadata": {},
   "outputs": [],
   "source": [
    "os.chdir(r\"C:\\Users\\ARPIT SHARMA\\Desktop\\lgm\\LGMVIP--DataScience-Iris-flower-classification-ML-1\\iris dataset\")\n",
    "files=os.listdir(r\"C:\\Users\\ARPIT SHARMA\\Desktop\\lgm\\LGMVIP--DataScience-Iris-flower-classification-ML-1\\iris dataset\")\n"
   ]
  },
  {
   "cell_type": "code",
   "execution_count": 15,
   "id": "83140e11",
   "metadata": {},
   "outputs": [
    {
     "data": {
      "text/plain": [
       "['bezdekIris.data', 'Index', 'iris.data', 'iris.names']"
      ]
     },
     "execution_count": 15,
     "metadata": {},
     "output_type": "execute_result"
    }
   ],
   "source": [
    "files"
   ]
  },
  {
   "cell_type": "markdown",
   "id": "d7193782",
   "metadata": {},
   "source": [
    "Attribute Information:\n",
    "   1. sepal length in cm\n",
    "   2. sepal width in cm\n",
    "   3. petal length in cm\n",
    "   4. petal width in cm\n",
    "   5. class: \n",
    "      -- Iris Setosa\n",
    "      -- Iris Versicolour\n",
    "      -- Iris Virginica\n"
   ]
  },
  {
   "cell_type": "markdown",
   "id": "85b93f99",
   "metadata": {},
   "source": [
    "[\"sepal length\",\"sepal width\",\"petal length\",\"petal width\"]"
   ]
  },
  {
   "cell_type": "code",
   "execution_count": 26,
   "id": "207bd15f",
   "metadata": {},
   "outputs": [],
   "source": [
    "iris_data=pd.read_csv(\"iris.data\",names=[\"sepal length\",\"sepal width\",\"petal length\",\"petal width\",\"type\"])"
   ]
  },
  {
   "cell_type": "markdown",
   "id": "878f0c8c",
   "metadata": {},
   "source": [
    "    1. Identification of variables and data types"
   ]
  },
  {
   "cell_type": "code",
   "execution_count": 27,
   "id": "539a520a",
   "metadata": {},
   "outputs": [
    {
     "data": {
      "text/plain": [
       "sepal length    float64\n",
       "sepal width     float64\n",
       "petal length    float64\n",
       "petal width     float64\n",
       "type             object\n",
       "dtype: object"
      ]
     },
     "execution_count": 27,
     "metadata": {},
     "output_type": "execute_result"
    }
   ],
   "source": [
    "iris_data.dtypes"
   ]
  },
  {
   "cell_type": "markdown",
   "id": "1be8cb3c",
   "metadata": {},
   "source": [
    "    2. Understanding the feature Variables(Trian-Test)"
   ]
  },
  {
   "cell_type": "markdown",
   "id": "f71ec131",
   "metadata": {},
   "source": [
    "    3. Analyzing the basic matrix"
   ]
  },
  {
   "cell_type": "markdown",
   "id": "f49f8b60",
   "metadata": {},
   "source": [
    "    4. Non graphihical univariate analysis"
   ]
  },
  {
   "cell_type": "markdown",
   "id": "cb7a4a83",
   "metadata": {},
   "source": [
    "    5. Bibariate Analysis"
   ]
  },
  {
   "cell_type": "markdown",
   "id": "c74f06e2",
   "metadata": {},
   "source": [
    "    6 Graphical univariate Analysis"
   ]
  },
  {
   "cell_type": "markdown",
   "id": "962c3023",
   "metadata": {},
   "source": [
    "    7. Graphical Bivariate Analysis"
   ]
  },
  {
   "cell_type": "markdown",
   "id": "d807af42",
   "metadata": {},
   "source": [
    "    8. Is there any missing values and do we have to delete it or replace it"
   ]
  },
  {
   "cell_type": "markdown",
   "id": "c67604dc",
   "metadata": {},
   "source": [
    "    9. what are outyliers ? How many of them are there ? Are they more then (+3 S.D)"
   ]
  },
  {
   "cell_type": "code",
   "execution_count": null,
   "id": "0f1658a1",
   "metadata": {},
   "outputs": [],
   "source": []
  }
 ],
 "metadata": {
  "kernelspec": {
   "display_name": "Python 3 (ipykernel)",
   "language": "python",
   "name": "python3"
  },
  "language_info": {
   "codemirror_mode": {
    "name": "ipython",
    "version": 3
   },
   "file_extension": ".py",
   "mimetype": "text/x-python",
   "name": "python",
   "nbconvert_exporter": "python",
   "pygments_lexer": "ipython3",
   "version": "3.9.13"
  }
 },
 "nbformat": 4,
 "nbformat_minor": 5
}
